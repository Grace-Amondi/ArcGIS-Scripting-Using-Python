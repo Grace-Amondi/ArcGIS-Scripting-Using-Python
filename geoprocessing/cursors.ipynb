{
 "cells": [
  {
   "cell_type": "code",
   "execution_count": 11,
   "metadata": {},
   "outputs": [],
   "source": [
    "# import sitepackage\n",
    "import arcpy\n",
    "from arcpy import env"
   ]
  },
  {
   "cell_type": "code",
   "execution_count": 33,
   "metadata": {},
   "outputs": [],
   "source": [
    "# define workspace\n",
    "env.workspace = r\"C:\\EsriPress\\Python\\Data\\Exercise08\"\n",
    "fc=\"dams.shp\""
   ]
  },
  {
   "cell_type": "code",
   "execution_count": 13,
   "metadata": {},
   "outputs": [],
   "source": [
    "# SEARCHCURSOR- access record for read only\n",
    "# INSERTCURSOR- insert a new record/row\n",
    "# UPDATECURSOR- make changes/ delete a row"
   ]
  },
  {
   "cell_type": "code",
   "execution_count": 23,
   "metadata": {},
   "outputs": [],
   "source": [
    "# SEARCHCURSOR\n",
    "cursor= arcpy.da.SearchCursor(fc,[\"DAM_NAME\",\"COUNTY\"])"
   ]
  },
  {
   "cell_type": "code",
   "execution_count": 24,
   "metadata": {},
   "outputs": [
    {
     "name": "stdout",
     "output_type": "stream",
     "text": [
      "Dam WAIMEA 60 MG RESERVOIR is located in HAWAII county\n",
      "Dam KOLEA RESERVOIR is located in MAUI county\n",
      "Dam KAPALAALAEA RESERVOIR is located in MAUI county\n",
      "Dam KAHANA DAM is located in MAUI county\n",
      "Dam KUALAPUU RESERVOIR is located in MAUI county\n",
      "Dam NUUANU DAM NO. 4 is located in HONOLULU county\n",
      "Dam KANEOHE DAM is located in HONOLULU county\n",
      "Dam RESERVOIR 510 is located in HONOLULU county\n",
      "Dam RESERVOIR 545A is located in HONOLULU county\n",
      "Dam WAHIAWA DAM is located in HONOLULU county\n",
      "Dam KU TREE RESERVOIR is located in HONOLULU county\n",
      "Dam UPPER HALEMANO RESERVOIR is located in HONOLULU county\n",
      "Dam OPAEULA 01 RESERVOIR is located in HONOLULU county\n",
      "Dam KAUPALE RESERVOIR is located in KAUAI county\n",
      "Dam AEPO RESERVOIR is located in KAUAI county\n",
      "Dam IPUOLONO RESERVOIR is located in KAUAI county\n",
      "Dam PIWAI RESERVOIR is located in KAUAI county\n",
      "Dam ALEXANDER is located in KAUAI county\n",
      "Dam WAIKOLOI RESERVOIR is located in KAUAI county\n",
      "Dam KAPAIA RESERVOIR is located in KAUAI county\n",
      "Dam PUU LUA RESERVOIR is located in KAUAI county\n",
      "Dam MIMINO RESERVOIR is located in KAUAI county\n",
      "Dam KANEHA RESERVOIR is located in KAUAI county\n"
     ]
    }
   ],
   "source": [
    "for row in cursor:\n",
    "    print(\"Dam {0} is located in {1} county\".format(row[0],row[1]))\n",
    "del cursor    "
   ]
  },
  {
   "cell_type": "code",
   "execution_count": 28,
   "metadata": {},
   "outputs": [
    {
     "name": "stdout",
     "output_type": "stream",
     "text": [
      "WAIMEA 60 MG RESERVOIR\n",
      "KOLEA RESERVOIR\n",
      "KAPALAALAEA RESERVOIR\n",
      "KAHANA DAM\n",
      "KUALAPUU RESERVOIR\n",
      "NUUANU DAM NO. 4\n",
      "KANEOHE DAM\n",
      "RESERVOIR 510\n",
      "RESERVOIR 545A\n",
      "WAHIAWA DAM\n",
      "KU TREE RESERVOIR\n",
      "UPPER HALEMANO RESERVOIR\n",
      "OPAEULA 01 RESERVOIR\n",
      "KAUPALE RESERVOIR\n",
      "AEPO RESERVOIR\n",
      "IPUOLONO RESERVOIR\n",
      "PIWAI RESERVOIR\n",
      "ALEXANDER\n",
      "WAIKOLOI RESERVOIR\n",
      "KAPAIA RESERVOIR\n",
      "PUU LUA RESERVOIR\n",
      "MIMINO RESERVOIR\n",
      "KANEHA RESERVOIR\n",
      "MASINGA DAM\n"
     ]
    }
   ],
   "source": [
    "# with statement -> automatically\n",
    "# del cursor -> manually\n",
    "with arcpy.da.SearchCursor(fc,[\"DAM_NAME\"]) as cursor:\n",
    "    for row in cursor:\n",
    "        print row[0]"
   ]
  },
  {
   "cell_type": "code",
   "execution_count": 39,
   "metadata": {},
   "outputs": [],
   "source": [
    "# insert cursor\n",
    "cursor1 = arcpy.da.InsertCursor(fc,\"DAM_NAME\")\n",
    "cursor1.insertRow([\"MASINGA DAM\"])\n",
    "del cursor1"
   ]
  },
  {
   "cell_type": "code",
   "execution_count": null,
   "metadata": {},
   "outputs": [],
   "source": []
  }
 ],
 "metadata": {
  "kernelspec": {
   "display_name": "Python [conda env:arc1031]",
   "language": "python",
   "name": "conda-env-arc1031-py"
  },
  "language_info": {
   "codemirror_mode": {
    "name": "ipython",
    "version": 2
   },
   "file_extension": ".py",
   "mimetype": "text/x-python",
   "name": "python",
   "nbconvert_exporter": "python",
   "pygments_lexer": "ipython2",
   "version": "2.7.8"
  }
 },
 "nbformat": 4,
 "nbformat_minor": 2
}
