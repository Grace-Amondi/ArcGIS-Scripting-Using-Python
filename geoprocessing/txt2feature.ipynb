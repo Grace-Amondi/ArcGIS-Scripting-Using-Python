{
 "cells": [
  {
   "cell_type": "markdown",
   "metadata": {},
   "source": [
    "## Convert a Text file to a Feature class\n",
    "\n",
    "In this example we are going to convert an existing text file to feature class"
   ]
  },
  {
   "cell_type": "code",
   "execution_count": 1,
   "metadata": {},
   "outputs": [],
   "source": [
    "# import sitepackages\n",
    "import arcpy, os"
   ]
  },
  {
   "cell_type": "code",
   "execution_count": 7,
   "metadata": {},
   "outputs": [],
   "source": [
    "try:\n",
    "    workspace = arcpy.GetParameterAsText(0)\n",
    "    txtfile= arcpy.GetParameterAsText(1)\n",
    "    fc\n",
    "#     define workspace\n",
    "    arcpy.env.workspace = r\"C:\\Users\\grace\\Desktop\\Project data\\geoprocessing1.mdb\"\n",
    "#     open text file\n",
    "    f = open('schools.txt','r')\n",
    "#     read line by line\n",
    "    lstSchls = f.readlines()\n",
    "#     open cursor for read write access\n",
    "    cursor = arcpy.InsertCursor(\"schools\")\n",
    "    \n",
    "#     loop through school txt file and insert latitude and longitude to school feature class\n",
    "    for school in lstSchls:\n",
    "        if 'latitude' in school:\n",
    "            continue\n",
    "#         split by tabs\n",
    "        vals = school.split(\"\t\")    \n",
    "        latitude= float(vals[2])\n",
    "        longitude= float(vals[1])\n",
    "        confid = int(vals[0])\n",
    "        \n",
    "#         create points in arcpy\n",
    "        pnt = arcpy.Point(longitude,latitude)\n",
    "        feat= cursor.newRow()\n",
    "        feat.shape =pnt\n",
    "        feat.setValue(\"CONFIDENCEVALUE\",confid)\n",
    "        cursor.insertRow(feat)\n",
    "        \n",
    "except:\n",
    "#     return error\n",
    "    print arcpy.GetMessages()\n",
    "finally:\n",
    "#     release lock\n",
    "    del cursor\n",
    "    f.close()\n"
   ]
  },
  {
   "cell_type": "code",
   "execution_count": null,
   "metadata": {},
   "outputs": [],
   "source": []
  }
 ],
 "metadata": {
  "kernelspec": {
   "display_name": "Python [conda env:arc1031]",
   "language": "python",
   "name": "conda-env-arc1031-py"
  },
  "language_info": {
   "codemirror_mode": {
    "name": "ipython",
    "version": 2
   },
   "file_extension": ".py",
   "mimetype": "text/x-python",
   "name": "python",
   "nbconvert_exporter": "python",
   "pygments_lexer": "ipython2",
   "version": "2.7.8"
  }
 },
 "nbformat": 4,
 "nbformat_minor": 2
}
