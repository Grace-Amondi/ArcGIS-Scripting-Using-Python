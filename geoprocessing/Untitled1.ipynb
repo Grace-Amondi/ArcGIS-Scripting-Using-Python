{
 "cells": [
  {
   "cell_type": "code",
   "execution_count": 1,
   "metadata": {},
   "outputs": [],
   "source": [
    "import arcpy\n",
    "from arcpy import env"
   ]
  },
  {
   "cell_type": "code",
   "execution_count": 5,
   "metadata": {},
   "outputs": [],
   "source": [
    "env.workspace = r\"C:\\EsriPress\\Python\\Data\\Exercise08\"\n",
    "fc = \"rivers.shp\"\n",
    "fc1 =\"dams.shp\""
   ]
  },
  {
   "cell_type": "code",
   "execution_count": 3,
   "metadata": {},
   "outputs": [],
   "source": [
    "cursor = arcpy.da.SearchCursor(fc, [\"SHAPE@LENGTH\"])"
   ]
  },
  {
   "cell_type": "code",
   "execution_count": 4,
   "metadata": {},
   "outputs": [
    {
     "name": "stdout",
     "output_type": "stream",
     "text": [
      "8780.44037544\n",
      "7345.2732341\n",
      "8648.28728056\n",
      "4578.50690685\n",
      "9377.88061412\n",
      "14776.4190401\n",
      "9821.72702068\n",
      "2796.41921194\n",
      "7330.04741969\n",
      "15557.7685806\n",
      "7086.8139648\n",
      "18800.7431462\n",
      "11523.8799945\n",
      "15633.6315441\n",
      "8791.78341462\n",
      "12089.0578649\n",
      "9278.15803024\n",
      "8632.9420822\n",
      "26613.5037375\n",
      "7214.64321132\n",
      "9161.63305734\n",
      "13010.65541\n",
      "5029.33122882\n",
      "5289.33466144\n",
      "2507.19962821\n",
      "7261.32877648\n"
     ]
    }
   ],
   "source": [
    "for row in cursor:\n",
    "    print row[0]"
   ]
  },
  {
   "cell_type": "code",
   "execution_count": null,
   "metadata": {},
   "outputs": [],
   "source": []
  }
 ],
 "metadata": {
  "kernelspec": {
   "display_name": "Python [conda env:arc1031]",
   "language": "python",
   "name": "conda-env-arc1031-py"
  },
  "language_info": {
   "codemirror_mode": {
    "name": "ipython",
    "version": 2
   },
   "file_extension": ".py",
   "mimetype": "text/x-python",
   "name": "python",
   "nbconvert_exporter": "python",
   "pygments_lexer": "ipython2",
   "version": "2.7.8"
  }
 },
 "nbformat": 4,
 "nbformat_minor": 2
}
